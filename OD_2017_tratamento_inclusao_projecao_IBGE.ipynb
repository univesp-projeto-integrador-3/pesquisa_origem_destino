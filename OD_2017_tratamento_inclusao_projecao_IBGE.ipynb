{
 "cells": [
  {
   "cell_type": "code",
   "execution_count": 139,
   "id": "e6af327f",
   "metadata": {},
   "outputs": [],
   "source": [
    "import pandas as pd"
   ]
  },
  {
   "cell_type": "code",
   "execution_count": null,
   "id": "9807c3fa",
   "metadata": {},
   "outputs": [],
   "source": [
    "# converte o arquivo xlsx para csv, para otimizar a consulta no Pandas\n",
    "ano = 2017\n",
    "file_name = f'OD_{ano}.xlsx'\n",
    "df = pd.read_excel(file_name)\n",
    "file_name_csv = file_name.replace('.xlsx', '.csv')\n",
    "df.to_csv(file_name_csv, index=False)\n",
    "print('Arquivo csv salvo com sucesso.')\n",
    "\n",
    "# converte o arquivo xlsx para csv, para otimizar a consulta no Pandas\n",
    "df = pd.read_csv(file_name_csv, low_memory=False)\n",
    "df.info()"
   ]
  },
  {
   "cell_type": "code",
   "execution_count": null,
   "id": "234c77b2",
   "metadata": {},
   "outputs": [],
   "source": [
    "file_name = 'projecoes_2018_populacao_2010_2060_20200406.xls'\n",
    "df_ibge = pd.read_excel(file_name, sheet_name='BRASIL', skiprows=50, skipfooter=220)\n",
    "# remove coluna desnecessária\n",
    "del df_ibge['Unnamed: 52']\n",
    "# remove as golunas desnecessárias (2010 até 2016)\n",
    "for coluna_a_remover in range(2010, 2017):\n",
    "    del df_ibge[coluna_a_remover]\n",
    "len(df_ibge)\n",
    "print(df_ibge.columns)\n",
    "df_ibge.tail()"
   ]
  },
  {
   "cell_type": "code",
   "execution_count": null,
   "id": "33a81711",
   "metadata": {},
   "outputs": [],
   "source": [
    "df_faixas_etarias = df_ibge['GRUPO ETÁRIO']\n",
    "# converte a Series em dataframe\n",
    "df_faixas_etarias = df_faixas_etarias.to_frame()\n",
    "# remove última linha, que é NA\n",
    "df_faixas_etarias = df_faixas_etarias.dropna()\n",
    "# Remove a primeira linha, que é \"Total\"\n",
    "df_faixas_etarias = df_faixas_etarias[1:]\n",
    "df_faixas_etarias"
   ]
  },
  {
   "cell_type": "code",
   "execution_count": null,
   "id": "4d9e1a9f",
   "metadata": {},
   "outputs": [],
   "source": [
    "# cria as colunas que serão usadas para classificar as pessoas dentro do range\n",
    "df_faixas_etarias[['idade_minima', 'idade_maxima']] = df_faixas_etarias['GRUPO ETÁRIO'].str.split('-', expand = True)\n",
    "# ajusta a idade_maxima dos 90+\n",
    "df_faixas_etarias['idade_maxima'].fillna(150, inplace=True)\n",
    "# remove o sinal de + para a idade de 90 anos\n",
    "df_faixas_etarias['idade_minima'] = df_faixas_etarias['idade_minima'].str.replace('+', '', regex=False)\n",
    "df_faixas_etarias.rename(columns={'GRUPO ETÁRIO': 'grupo_etario'}, inplace=True)\n",
    "# altera os campos para numéricos\n",
    "df_faixas_etarias['idade_minima'] = pd.to_numeric(df_faixas_etarias['idade_minima'])\n",
    "df_faixas_etarias['idade_maxima'] = pd.to_numeric(df_faixas_etarias['idade_maxima'])\n",
    "df_faixas_etarias"
   ]
  },
  {
   "cell_type": "code",
   "execution_count": null,
   "id": "e5496f12",
   "metadata": {},
   "outputs": [],
   "source": [
    "# a partir dos grupos etários da lista do ibge, cria a coluna \n",
    "# grupo_etario no dataframe OD2017, incluindo o seu grupo etário\n",
    "grupos = [\n",
    "    0,\n",
    "    4,\n",
    "    9,\n",
    "    14,\n",
    "    19,\n",
    "    24,\n",
    "    29,\n",
    "    34,\n",
    "    39,\n",
    "    44,\n",
    "    49,\n",
    "    54,\n",
    "    59,\n",
    "    64,\n",
    "    69,\n",
    "    74,\n",
    "    79,\n",
    "    84,\n",
    "    89,\n",
    "    150\n",
    "]\n",
    "labels = df_faixas_etarias['grupo_etario'].to_list()\n",
    "df['grupo_etario'] = pd.cut(df['IDADE - Idade'], bins=grupos, include_lowest=False, precision=0, labels=labels)\n",
    "df[['IDADE - Idade', 'grupo_etario']].tail()\n",
    "df[['ID_PESS - Identifica Pessoa', 'IDADE - Idade', 'grupo_etario']].head()"
   ]
  },
  {
   "cell_type": "code",
   "execution_count": null,
   "id": "4be2cb47",
   "metadata": {},
   "outputs": [],
   "source": [
    "# cria uma cópia apenas dos campos que serão usados para fazer o 'JOIN' \n",
    "# com o dataframe que já foi lido no Power BI\n",
    "df_saida = df[['ID_PESS - Identifica Pessoa', 'IDADE - Idade', 'grupo_etario']].copy()\n",
    "a_renomear = {\n",
    "    'ID_PESS - Identifica Pessoa': 'ID_PESS',\n",
    "    'IDADE - Idade': 'IDADE',\n",
    "    'grupo_etario': 'GRUPO ETÁRIO'\n",
    "}\n",
    "df_saida.rename(columns=a_renomear, inplace=True)\n",
    "df_saida.head(10)"
   ]
  },
  {
   "cell_type": "code",
   "execution_count": null,
   "id": "da521882",
   "metadata": {},
   "outputs": [],
   "source": [
    "# faz o merge dos dados do IBGE com o df_saida\n",
    "df_saida_ibge = df_saida.merge(df_ibge)\n",
    "# remove registros duplicados, se houver\n",
    "print('Antes de remover duplicados ->', len(df_saida_ibge))\n",
    "df_saida_ibge.drop_duplicates(inplace=True)\n",
    "print('Após remover duplicados ->', len(df_saida_ibge))\n",
    "df_saida_ibge.head()"
   ]
  },
  {
   "cell_type": "code",
   "execution_count": null,
   "id": "15867a55",
   "metadata": {},
   "outputs": [],
   "source": [
    "df_saida_ibge.head()"
   ]
  },
  {
   "cell_type": "code",
   "execution_count": null,
   "id": "49e6fa24",
   "metadata": {},
   "outputs": [],
   "source": [
    "pd.options.display.float_format = '{:,.2f}'.format\n",
    "# cria algumas colunas com o fator de evolução, no formato\n",
    "# FATOR_ANO_FINAL_ANO_INICIAL\n",
    "ano_inicial, ano_final = 2017, 2023\n",
    "df_saida_ibge[f'FATOR_{ano_inicial}_{ano_final}'] = (df_saida_ibge[ano_final]/df_saida_ibge[ano_inicial])\n",
    "\n",
    "ano_inicial, ano_final = 2017, 2025\n",
    "df_saida_ibge[f'FATOR_{ano_inicial}_{ano_final}'] = (df_saida_ibge[ano_final]/df_saida_ibge[ano_inicial])\n",
    "\n",
    "ano_inicial, ano_final = 2017, 2035\n",
    "df_saida_ibge[f'FATOR_{ano_inicial}_{ano_final}'] = (df_saida_ibge[ano_final]/df_saida_ibge[ano_inicial])\n",
    "\n",
    "ano_inicial, ano_final = 2017, 2040\n",
    "df_saida_ibge[f'FATOR_{ano_inicial}_{ano_final}'] = (df_saida_ibge[ano_final]/df_saida_ibge[ano_inicial])\n",
    "\n",
    "ano_inicial, ano_final = 2017, 2045\n",
    "df_saida_ibge[f'FATOR_{ano_inicial}_{ano_final}'] = (df_saida_ibge[ano_final]/df_saida_ibge[ano_inicial])\n",
    "\n",
    "ano_inicial, ano_final = 2017, 2050\n",
    "df_saida_ibge[f'FATOR_{ano_inicial}_{ano_final}'] = (df_saida_ibge[ano_final]/df_saida_ibge[ano_inicial])\n",
    "\n",
    "ano_inicial, ano_final = 2017, 2055\n",
    "df_saida_ibge[f'FATOR_{ano_inicial}_{ano_final}'] = (df_saida_ibge[ano_final]/df_saida_ibge[ano_inicial])\n",
    "\n",
    "ano_inicial, ano_final = 2017, 2060\n",
    "df_saida_ibge[f'FATOR_{ano_inicial}_{ano_final}'] = (df_saida_ibge[ano_final]/df_saida_ibge[ano_inicial])\n",
    "\n",
    "df_saida_ibge.head()"
   ]
  },
  {
   "cell_type": "code",
   "execution_count": null,
   "id": "6766ebd4",
   "metadata": {},
   "outputs": [],
   "source": [
    "df_saida_ibge.columns"
   ]
  },
  {
   "cell_type": "code",
   "execution_count": null,
   "id": "c72d112e",
   "metadata": {},
   "outputs": [],
   "source": [
    "file_path_saida = 'OD_2017_fator_de_comparação_IBGE.xlsx'\n",
    "df_saida_ibge.to_excel(file_path_saida, index=False)\n",
    "print('Arquivo de saída salvo com sucesso.')"
   ]
  }
 ],
 "metadata": {
  "kernelspec": {
   "display_name": "Python 3 (ipykernel)",
   "language": "python",
   "name": "python3"
  },
  "language_info": {
   "codemirror_mode": {
    "name": "ipython",
    "version": 3
   },
   "file_extension": ".py",
   "mimetype": "text/x-python",
   "name": "python",
   "nbconvert_exporter": "python",
   "pygments_lexer": "ipython3",
   "version": "3.9.13"
  }
 },
 "nbformat": 4,
 "nbformat_minor": 5
}
